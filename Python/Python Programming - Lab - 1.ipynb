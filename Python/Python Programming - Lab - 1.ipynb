{
 "cells": [
  {
   "cell_type": "markdown",
   "metadata": {},
   "source": [
    "<a href='https://www.darshan.ac.in/'> <img src='https://www.darshan.ac.in/Content/media/DU_Logo.svg' width=\"250\" height=\"300\"/></a>\n",
    "<pre>\n",
    "<center><b><h1>Python Programming - 2301CS404</b></center>\n",
    "<center><b><h1>Meet Jani | 23010101103 | 159</b></center>\n",
    "<center><b><h1>Lab - 1</b></center>    \n",
    "<pre>"
   ]
  },
  {
   "cell_type": "markdown",
   "metadata": {},
   "source": [
    "### 01) WAP to print “Hello World”"
   ]
  },
  {
   "cell_type": "code",
   "execution_count": null,
   "metadata": {},
   "outputs": [
    {
     "name": "stdout",
     "output_type": "stream",
     "text": [
      "Hello World\n"
     ]
    }
   ],
   "source": [
    "print(\"Hello World\")"
   ]
  },
  {
   "cell_type": "markdown",
   "metadata": {},
   "source": [
    "### 02) WAP to print addition of two numbers with and without using input()."
   ]
  },
  {
   "cell_type": "code",
   "execution_count": null,
   "metadata": {},
   "outputs": [
    {
     "name": "stdout",
     "output_type": "stream",
     "text": [
      "Enter Number 1: 5\n",
      "Enter Number 2: 10\n"
     ]
    },
    {
     "name": "stdout",
     "output_type": "stream",
     "text": [
      "15\n",
      "25\n"
     ]
    }
   ],
   "source": [
    "#Using Input\n",
    "a=int(input(\"Enter Number 1:\"))\n",
    "b=int(input(\"Enter Number 2:\"))\n",
    "print(a+b)\n",
    "\n",
    "#Without Input\n",
    "a=5\n",
    "b=20\n",
    "print(a+b)"
   ]
  },
  {
   "cell_type": "markdown",
   "metadata": {},
   "source": [
    "### 03) WAP to check the type of the variable."
   ]
  },
  {
   "cell_type": "code",
   "execution_count": null,
   "metadata": {},
   "outputs": [
    {
     "name": "stdout",
     "output_type": "stream",
     "text": [
      "<class 'int'>\n",
      "<class 'str'>\n"
     ]
    }
   ],
   "source": [
    "a=5\n",
    "print(type(a))\n",
    "b=\"Harsh\"\n",
    "print(type(b))"
   ]
  },
  {
   "cell_type": "markdown",
   "metadata": {},
   "source": [
    "### 04) WAP to calculate simple interest."
   ]
  },
  {
   "cell_type": "code",
   "execution_count": null,
   "metadata": {},
   "outputs": [
    {
     "name": "stdout",
     "output_type": "stream",
     "text": [
      "Enter Principal: 5\n",
      "Enter Rate of Interest in % per annum: 10\n",
      "Enter Time: 15\n"
     ]
    },
    {
     "name": "stdout",
     "output_type": "stream",
     "text": [
      "7.5\n"
     ]
    }
   ],
   "source": [
    "#S.I. = (P × R × T)/100\n",
    "p=int(input(\"Enter Principal:\"))\n",
    "r=int(input(\"Enter Rate of Interest in % per annum:\"))\n",
    "t=int(input(\"Enter Time:\"))\n",
    "\n",
    "SI=(p*r*t)/100\n",
    "print(SI)"
   ]
  },
  {
   "cell_type": "markdown",
   "metadata": {},
   "source": [
    "### 05) WAP to calculate area and perimeter of a circle."
   ]
  },
  {
   "cell_type": "code",
   "execution_count": null,
   "metadata": {},
   "outputs": [
    {
     "name": "stdout",
     "output_type": "stream",
     "text": [
      "Enter reduis of circle 5\n"
     ]
    },
    {
     "name": "stdout",
     "output_type": "stream",
     "text": [
      "Area of Circle is: 78.53981633974483\n",
      "perimeter of Circle is: 31.41592653589793\n"
     ]
    }
   ],
   "source": [
    "#Area:pi*r*r\n",
    "#perimeter:2*pi*r\n",
    "\n",
    "import math\n",
    "\n",
    "r=int(input(\"Enter reduis of circle\"))\n",
    "area=math.pi*r**2\n",
    "perimeter=2*math.pi*r\n",
    "\n",
    "print(\"Area of Circle is:\",area)\n",
    "print(\"perimeter of Circle is:\",perimeter)"
   ]
  },
  {
   "cell_type": "markdown",
   "metadata": {},
   "source": [
    "### 06) WAP to calculate area of a triangle."
   ]
  },
  {
   "cell_type": "code",
   "execution_count": null,
   "metadata": {},
   "outputs": [
    {
     "name": "stdout",
     "output_type": "stream",
     "text": [
      "Enter base of triangle: 5\n",
      "Enter height of triangle: 10\n"
     ]
    },
    {
     "name": "stdout",
     "output_type": "stream",
     "text": [
      "25.0\n"
     ]
    }
   ],
   "source": [
    "#Area: ½ (base × height)\n",
    "\n",
    "base=int(input(\"Enter base of triangle:\"))\n",
    "height=int(input(\"Enter height of triangle:\"))\n",
    "\n",
    "area=(1/2)*(base*height)\n",
    "print(area)"
   ]
  },
  {
   "cell_type": "markdown",
   "metadata": {},
   "source": [
    "### 07) WAP to compute quotient and remainder."
   ]
  },
  {
   "cell_type": "code",
   "execution_count": null,
   "metadata": {},
   "outputs": [
    {
     "name": "stdout",
     "output_type": "stream",
     "text": [
      "Enter number 1: 5\n",
      "Enter number 2: 10\n"
     ]
    },
    {
     "name": "stdout",
     "output_type": "stream",
     "text": [
      "2\n",
      "5\n"
     ]
    }
   ],
   "source": [
    "a=int(input(\"Enter number 1:\"))\n",
    "b=int(input(\"Enter number 2:\"))\n",
    "\n",
    "quotient=b//a\n",
    "remainder=a%b\n",
    "\n",
    "print(quotient)\n",
    "print(remainder)"
   ]
  },
  {
   "cell_type": "markdown",
   "metadata": {},
   "source": [
    "### 08) WAP to convert degree into Fahrenheit and vice versa."
   ]
  },
  {
   "cell_type": "code",
   "execution_count": null,
   "metadata": {},
   "outputs": [
    {
     "name": "stdout",
     "output_type": "stream",
     "text": [
      "Enter Temrature in Degree: 5\n"
     ]
    },
    {
     "name": "stdout",
     "output_type": "stream",
     "text": [
      "41.0\n"
     ]
    },
    {
     "name": "stdout",
     "output_type": "stream",
     "text": [
      "Enter Temrature in Fahrengeit: 125\n"
     ]
    },
    {
     "name": "stdout",
     "output_type": "stream",
     "text": [
      "5\n"
     ]
    }
   ],
   "source": [
    "#Degree TO Fahrengeit: C × (9/5) + 32\n",
    "c=int(input(\"Enter Temrature in Degree:\"))\n",
    "F=c*(9/5)+32\n",
    "print(F)\n",
    "\n",
    "#Fahrengeit To Degree: (F - 32) × 5/9\n",
    "F=int(input(\"Enter Temrature in Fahrengeit:\"))\n",
    "print(c)\n"
   ]
  },
  {
   "cell_type": "markdown",
   "metadata": {},
   "source": [
    "### 09) WAP to find the distance between two points in 2-D space."
   ]
  },
  {
   "cell_type": "code",
   "execution_count": null,
   "metadata": {},
   "outputs": [
    {
     "name": "stdout",
     "output_type": "stream",
     "text": [
      "Enter Value of x2: 1\n",
      "Enter Value of x1: 1\n",
      "Enter Value of y2: 5\n",
      "Enter Value of y1: 1\n"
     ]
    },
    {
     "name": "stdout",
     "output_type": "stream",
     "text": [
      "4.0\n"
     ]
    }
   ],
   "source": [
    "#d=√((x2 – x1)² + (y2 – y1)²)\n",
    "\n",
    "import math\n",
    "x2=int(input(\"Enter Value of x2:\"))\n",
    "x1=int(input(\"Enter Value of x1:\"))\n",
    "y2=int(input(\"Enter Value of y2:\"))\n",
    "y1=int(input(\"Enter Value of y1:\"))\n",
    "\n",
    "d=math.sqrt((x2-x1)**2 + (y2-y1)**2)\n",
    "print(d)"
   ]
  },
  {
   "cell_type": "markdown",
   "metadata": {},
   "source": [
    "### 10) WAP to print sum of n natural numbers."
   ]
  },
  {
   "cell_type": "code",
   "execution_count": null,
   "metadata": {},
   "outputs": [
    {
     "name": "stdout",
     "output_type": "stream",
     "text": [
      "Enter Number to be add: 10\n"
     ]
    },
    {
     "name": "stdout",
     "output_type": "stream",
     "text": [
      "55.0\n"
     ]
    }
   ],
   "source": [
    "n=int(input(\"Enter Number to be add:\"))\n",
    "a=(n*(n+1))/2\n",
    "print(a)"
   ]
  },
  {
   "cell_type": "markdown",
   "metadata": {},
   "source": [
    "### 11) WAP to print sum of square of n natural numbers."
   ]
  },
  {
   "cell_type": "code",
   "execution_count": null,
   "metadata": {},
   "outputs": [
    {
     "name": "stdout",
     "output_type": "stream",
     "text": [
      "Enter Number to be add: 5\n"
     ]
    },
    {
     "name": "stdout",
     "output_type": "stream",
     "text": [
      "225.0\n"
     ]
    }
   ],
   "source": [
    "n=int(input(\"Enter Number to be add:\"))\n",
    "a=((n*(n+1))/2)**2\n",
    "print(a)"
   ]
  },
  {
   "cell_type": "markdown",
   "metadata": {},
   "source": [
    "### 12) WAP to concate the first and last name of the student."
   ]
  },
  {
   "cell_type": "code",
   "execution_count": null,
   "metadata": {},
   "outputs": [
    {
     "name": "stdout",
     "output_type": "stream",
     "text": [
      "Enter your FirstName: Harsh\n",
      "Enter your LastName: Khant\n"
     ]
    },
    {
     "name": "stdout",
     "output_type": "stream",
     "text": [
      "Harsh  Khant\n"
     ]
    }
   ],
   "source": [
    "fName=str(input(\"Enter your FirstName:\"))\n",
    "lName=str(input(\"Enter your LastName:\"))\n",
    "\n",
    "FullName=fName+  \"  \" +lName\n",
    "print(FullName)"
   ]
  },
  {
   "cell_type": "markdown",
   "metadata": {},
   "source": [
    "### 13) WAP to swap two numbers."
   ]
  },
  {
   "cell_type": "code",
   "execution_count": null,
   "metadata": {},
   "outputs": [
    {
     "name": "stdout",
     "output_type": "stream",
     "text": [
      "Value Of A: 10\n",
      "Value Of B: 5\n"
     ]
    }
   ],
   "source": [
    "a,b=5,10\n",
    "a,b=b,a\n",
    "print(\"Value Of A:\",a)\n",
    "print(\"Value Of B:\",b)"
   ]
  },
  {
   "cell_type": "markdown",
   "metadata": {},
   "source": [
    "### 14) WAP to get the distance from user into kilometer, and convert it into meter, feet, inches and centimeter."
   ]
  },
  {
   "cell_type": "code",
   "execution_count": null,
   "metadata": {},
   "outputs": [
    {
     "name": "stdout",
     "output_type": "stream",
     "text": [
      "Enter distance in Kilometer: 5\n"
     ]
    },
    {
     "name": "stdout",
     "output_type": "stream",
     "text": [
      "5000\n",
      "16404.2\n",
      "196850.5\n",
      "500000\n"
     ]
    }
   ],
   "source": [
    "#1 km=1000 m\n",
    "#1 km=3280.84 feet\n",
    "#1 km=39370.1 inch\n",
    "#1 km=100000 centimeter\n",
    "\n",
    "a=int(input(\"Enter distance in Kilometer:\"))\n",
    "meter=a*1000\n",
    "feet=a*3280.84\n",
    "inches=a*39370.1\n",
    "centimeter=a*100000\n",
    "\n",
    "print(\"meter is:\",meter)\n",
    "print(\"feet is:\",feet)\n",
    "print(\"inches is:\",inches)\n",
    "print(\"centimeter is:\",centimeter)\n"
   ]
  },
  {
   "cell_type": "markdown",
   "metadata": {},
   "source": [
    "### 15) WAP to get day, month and year from the user and print the date in the given format: 23-11-2024."
   ]
  },
  {
   "cell_type": "code",
   "execution_count": null,
   "metadata": {},
   "outputs": [
    {
     "name": "stdout",
     "output_type": "stream",
     "text": [
      "Enter a day: 23\n",
      "Enter a month: 11\n",
      "Enter a year: 2024\n"
     ]
    },
    {
     "name": "stdout",
     "output_type": "stream",
     "text": [
      "23-11-2024\n"
     ]
    }
   ],
   "source": [
    "day=str(input(\"Enter a day:\"))\n",
    "month=str(input(\"Enter a month:\"))\n",
    "year=str(input(\"Enter a year:\"))\n",
    "\n",
    "date=  day + '-' + month + '-' + year\n",
    "print(date)\n"
   ]
  },
  {
   "cell_type": "code",
   "execution_count": null,
   "metadata": {},
   "outputs": [],
   "source": []
  }
 ],
 "metadata": {
  "kernelspec": {
   "display_name": "Python 3",
   "language": "python",
   "name": "python3"
  },
  "language_info": {
   "codemirror_mode": {
    "name": "ipython",
    "version": 3
   },
   "file_extension": ".py",
   "mimetype": "text/x-python",
   "name": "python",
   "nbconvert_exporter": "python",
   "pygments_lexer": "ipython3",
   "version": "3.13.1"
  }
 },
 "nbformat": 4,
 "nbformat_minor": 4
}
