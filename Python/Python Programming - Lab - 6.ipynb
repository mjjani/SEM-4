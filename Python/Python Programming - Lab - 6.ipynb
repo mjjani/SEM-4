{
 "cells": [
  {
   "attachments": {},
   "cell_type": "markdown",
   "metadata": {},
   "source": [
    "<a href='https://www.darshan.ac.in/'> <img src='https://www.darshan.ac.in/Content/media/DU_Logo.svg' width=\"250\" height=\"300\"/></a>\n",
    "<pre>\n",
    "<center><b><h1>Python Programming - 2301CS404</b></center>\n",
    "<center><b><h1>Meet Jani | 23010101103 | 159</b></center>\n",
    "<center><b><h1>Lab - 6</b></center>    \n",
    "<pre>"
   ]
  },
  {
   "cell_type": "markdown",
   "metadata": {},
   "source": [
    "# Tuple"
   ]
  },
  {
   "cell_type": "markdown",
   "metadata": {},
   "source": [
    "### 01) WAP to find sum of tuple elements."
   ]
  },
  {
   "cell_type": "code",
   "execution_count": 1,
   "metadata": {},
   "outputs": [
    {
     "name": "stdout",
     "output_type": "stream",
     "text": [
      "15\n"
     ]
    }
   ],
   "source": [
    "t1=(1,2,3,4,5)\n",
    "print(sum(t1))"
   ]
  },
  {
   "cell_type": "markdown",
   "metadata": {},
   "source": [
    "### 02) WAP to find Maximum and Minimum K elements in a given tuple."
   ]
  },
  {
   "cell_type": "code",
   "execution_count": 2,
   "metadata": {},
   "outputs": [
    {
     "name": "stdout",
     "output_type": "stream",
     "text": [
      "Enter a Value of K: 2\n"
     ]
    },
    {
     "name": "stdout",
     "output_type": "stream",
     "text": [
      "Minimum 2 Elements: (1, 2)\n",
      "Maximum 2 Elements: (4, 5)\n"
     ]
    }
   ],
   "source": [
    "t=(1,2,3,4,5)\n",
    "k=int(input('Enter a Value of K:'))\n",
    "temp=list(t)\n",
    "temp.sort()\n",
    "print('Minimum',k,'Elements:',tuple(temp[:k]))\n",
    "print('Maximum',k,'Elements:',tuple(temp[-k:]))\n"
   ]
  },
  {
   "cell_type": "markdown",
   "metadata": {},
   "source": [
    "### 03) WAP to find tuples which have all elements divisible by K from a list of tuples."
   ]
  },
  {
   "cell_type": "code",
   "execution_count": 4,
   "metadata": {},
   "outputs": [
    {
     "name": "stdout",
     "output_type": "stream",
     "text": [
      "Enter a Value of K: 2\n"
     ]
    },
    {
     "name": "stdout",
     "output_type": "stream",
     "text": [
      "[(6, 36, 12)]\n"
     ]
    }
   ],
   "source": [
    "li=[(1,2,3),(6,36,12),(5,565)]\n",
    "temp=[]\n",
    "k=int(input('Enter a Value of K:'))\n",
    "for i in li:\n",
    "    isValid=True\n",
    "    for j in i:\n",
    "        if j%k!=0:\n",
    "            isValid=False\n",
    "    if isValid:\n",
    "        temp.append(i)\n",
    "print(temp)\n",
    "    "
   ]
  },
  {
   "cell_type": "markdown",
   "metadata": {},
   "source": [
    "### 04) WAP to create a list of tuples from given list having number and its cube in each tuple."
   ]
  },
  {
   "cell_type": "code",
   "execution_count": 3,
   "metadata": {},
   "outputs": [
    {
     "name": "stdout",
     "output_type": "stream",
     "text": [
      "[(1, 1), (3, 27), (65, 274625), (23, 12167), (7, 343), (3, 27), (6, 216), (2, 8), (7, 343), (3, 27), (5, 125), (8, 512)]\n"
     ]
    }
   ],
   "source": [
    "li=[1,3,65,23,7,3,6,2,7,3,5,8]\n",
    "t=[(i,i**3) for i in li]\n",
    "print(t)"
   ]
  },
  {
   "cell_type": "markdown",
   "metadata": {},
   "source": [
    "### 05) WAP to find tuples with all positive elements from the given list of tuples."
   ]
  },
  {
   "cell_type": "code",
   "execution_count": 7,
   "metadata": {},
   "outputs": [
    {
     "data": {
      "text/plain": [
       "(4, 5)"
      ]
     },
     "execution_count": 7,
     "metadata": {},
     "output_type": "execute_result"
    }
   ],
   "source": [
    "t1 = [(-1,-2),(-3,4),(5,-6)]\n",
    "ans = []\n",
    "for i in range(len(t1)) :\n",
    "    for j in range(len(t1[i])) : \n",
    "        if t1[i][j] >= 0 :\n",
    "            ans.append(t1[i][j])\n",
    "\n",
    "tuple(ans)"
   ]
  },
  {
   "cell_type": "markdown",
   "metadata": {},
   "source": [
    "### 06) WAP to add tuple to list and vice – versa."
   ]
  },
  {
   "cell_type": "code",
   "execution_count": 8,
   "metadata": {},
   "outputs": [
    {
     "name": "stdout",
     "output_type": "stream",
     "text": [
      "([1, 2, 3],)\n",
      "[(1, 2, 3)]\n"
     ]
    }
   ],
   "source": [
    "t1 = []\n",
    "a = [1,2,3]\n",
    "t1.append(a)\n",
    "print(tuple(t1))\n",
    "\n",
    "t2 = []\n",
    "a = [1,2,3]\n",
    "t2.append(tuple(a))\n",
    "print(t2)"
   ]
  },
  {
   "cell_type": "markdown",
   "metadata": {},
   "source": [
    "### 07) WAP to remove tuples of length K."
   ]
  },
  {
   "cell_type": "code",
   "execution_count": 10,
   "metadata": {},
   "outputs": [
    {
     "name": "stdout",
     "output_type": "stream",
     "text": [
      "Original list: [(1, 2), (3, 4, 5), (6, 7), (8, 9, 10)]\n",
      "list: [(3, 4, 5), (8, 9, 10)]\n"
     ]
    }
   ],
   "source": [
    "li = [(1, 2), (3, 4, 5), (6, 7), (8, 9, 10)]\n",
    "K = 2\n",
    "\n",
    "result = []\n",
    "\n",
    "for i in li:\n",
    "    length = 0  \n",
    "    for a in i:\n",
    "        length += 1\n",
    "    if length != K:\n",
    "        result.append(i)\n",
    "\n",
    "print(\"Original list:\", li)\n",
    "print(\"list:\", result)\n",
    "\n"
   ]
  },
  {
   "cell_type": "markdown",
   "metadata": {},
   "source": [
    "### 08) WAP to remove duplicates from tuple."
   ]
  },
  {
   "cell_type": "code",
   "execution_count": 11,
   "metadata": {},
   "outputs": [
    {
     "name": "stdout",
     "output_type": "stream",
     "text": [
      "(1, 2, 3, 4, 5)\n"
     ]
    }
   ],
   "source": [
    "t=(1,2,3,4,5,5)\n",
    "c=list(t)\n",
    "r=set(c)\n",
    "s=tuple(r)\n",
    "print(s)\n"
   ]
  },
  {
   "cell_type": "markdown",
   "metadata": {},
   "source": [
    "### 09) WAP to multiply adjacent elements of a tuple and print that resultant tuple."
   ]
  },
  {
   "cell_type": "code",
   "execution_count": 20,
   "metadata": {},
   "outputs": [
    {
     "name": "stdout",
     "output_type": "stream",
     "text": [
      "(2, 6, 12, 20)\n"
     ]
    }
   ],
   "source": [
    "t = (1, 2, 3, 4, 5)\n",
    "l = list(t)\n",
    "mu = [l[i] * l[i+1] for i in range(len(l)-1)] \n",
    "tp = tuple(mu)\n",
    "print(tp)\n"
   ]
  },
  {
   "cell_type": "markdown",
   "metadata": {},
   "source": [
    "### 10) WAP to test if the given tuple is distinct or not."
   ]
  },
  {
   "cell_type": "code",
   "execution_count": 21,
   "metadata": {},
   "outputs": [
    {
     "name": "stdout",
     "output_type": "stream",
     "text": [
      "distinct\n"
     ]
    }
   ],
   "source": [
    "t = (1, 2, 3, 4, 5)\n",
    "isU=True\n",
    "for i in t:\n",
    "    if t.count(i)!=1:\n",
    "        isU=False\n",
    "if isU:\n",
    "    print('distinct')\n",
    "else:\n",
    "    print('not distinct')"
   ]
  },
  {
   "cell_type": "code",
   "execution_count": null,
   "metadata": {},
   "outputs": [],
   "source": []
  }
 ],
 "metadata": {
  "kernelspec": {
   "display_name": "Python 3 (ipykernel)",
   "language": "python",
   "name": "python3"
  },
  "language_info": {
   "codemirror_mode": {
    "name": "ipython",
    "version": 3
   },
   "file_extension": ".py",
   "mimetype": "text/x-python",
   "name": "python",
   "nbconvert_exporter": "python",
   "pygments_lexer": "ipython3",
   "version": "3.12.7"
  }
 },
 "nbformat": 4,
 "nbformat_minor": 4
}
