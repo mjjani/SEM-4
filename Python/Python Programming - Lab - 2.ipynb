{
 "cells": [
  {
   "cell_type": "markdown",
   "metadata": {},
   "source": [
    "\n",
    "<a href='https://www.darshan.ac.in/'> <img src='https://www.darshan.ac.in/Content/media/DU_Logo.svg' width=\"250\" height=\"300\"/></a>\n",
    "<pre>\n",
    "            <center><b><h1>Python Programming - 2301CS404</b></center>\n",
    "            <center><b><h1>Meet Jani | 23010101103 | 159</b></center>\n",
    "            <center><b><h1>Lab - 2</b></center>    \n",
    "<pre>"
   ]
  },
  {
   "cell_type": "code",
   "execution_count": null,
   "metadata": {},
   "outputs": [],
   "source": []
  },
  {
   "cell_type": "markdown",
   "metadata": {},
   "source": [
    "# if..else.."
   ]
  },
  {
   "cell_type": "markdown",
   "metadata": {},
   "source": [
    "### 01) WAP to check whether the given number is positive or negative."
   ]
  },
  {
   "cell_type": "code",
   "execution_count": 1,
   "metadata": {},
   "outputs": [
    {
     "name": "stdout",
     "output_type": "stream",
     "text": [
      "Enter a number to check positive or negative: 5\n"
     ]
    },
    {
     "name": "stdout",
     "output_type": "stream",
     "text": [
      "positive\n"
     ]
    }
   ],
   "source": [
    "a=int(input(\"Enter a number to check positive or negative:\"))\n",
    "if a>0:\n",
    "    print(\"positive\")\n",
    "else:\n",
    "    print(\"Negative\")"
   ]
  },
  {
   "cell_type": "markdown",
   "metadata": {},
   "source": [
    "### 02) WAP to check whether the given number is odd or even."
   ]
  },
  {
   "cell_type": "code",
   "execution_count": 2,
   "metadata": {},
   "outputs": [
    {
     "name": "stdout",
     "output_type": "stream",
     "text": [
      "Enter a number to check number is odd or even: 5\n"
     ]
    },
    {
     "name": "stdout",
     "output_type": "stream",
     "text": [
      "Number is odd\n"
     ]
    }
   ],
   "source": [
    "n=int(input(\"Enter a number to check number is odd or even:\"))\n",
    "if n%2==0:\n",
    "    print(\"Number is even\")\n",
    "else:\n",
    "    print(\"Number is odd\")"
   ]
  },
  {
   "cell_type": "markdown",
   "metadata": {},
   "source": [
    "### 03) WAP to find out largest number from given two numbers using simple if and ternary operator."
   ]
  },
  {
   "cell_type": "code",
   "execution_count": 7,
   "metadata": {},
   "outputs": [
    {
     "name": "stdout",
     "output_type": "stream",
     "text": [
      "Enter number 1: 5\n",
      "Enter number 2: 10\n"
     ]
    },
    {
     "name": "stdout",
     "output_type": "stream",
     "text": [
      "B is largest\n",
      "B is Largest\n"
     ]
    }
   ],
   "source": [
    "#Using IF\n",
    "\n",
    "a=int(input(\"Enter number 1:\"))\n",
    "b=int(input(\"Enter number 2:\"))\n",
    "\n",
    "if a>b:\n",
    "    print(\"A is largest\")\n",
    "else:\n",
    "    print(\"B is largest\")\n",
    "\n",
    "#Using Ternary operator\n",
    "print(\"A is Largest\" if a>b else \"B is Largest\")"
   ]
  },
  {
   "cell_type": "markdown",
   "metadata": {},
   "source": [
    "### 04) WAP to find out largest number from given three numbers."
   ]
  },
  {
   "cell_type": "code",
   "execution_count": 10,
   "metadata": {},
   "outputs": [
    {
     "name": "stdout",
     "output_type": "stream",
     "text": [
      "Enter Number 1: 5\n",
      "Enter Number 2: 10\n",
      "Enter Number 3: 15\n"
     ]
    },
    {
     "name": "stdout",
     "output_type": "stream",
     "text": [
      "15\n"
     ]
    }
   ],
   "source": [
    "a=int(input(\"Enter Number 1:\"))\n",
    "b=int(input(\"Enter Number 2:\"))\n",
    "c=int(input(\"Enter Number 3:\"))\n",
    "\n",
    "if (a>b) and (a>c):\n",
    "    largest=a\n",
    "elif (b>a) and (b>c):\n",
    "    largest=b\n",
    "else:\n",
    "    largest=c\n",
    "    print(largest)\n",
    "        "
   ]
  },
  {
   "cell_type": "markdown",
   "metadata": {},
   "source": [
    "### 05) WAP to check whether the given year is leap year or not.\n",
    "[If a year can be divisible by 4 but not divisible by 100 then it is leap year but if it is divisible by 400 then it is leap year]"
   ]
  },
  {
   "cell_type": "code",
   "execution_count": 16,
   "metadata": {},
   "outputs": [
    {
     "name": "stdout",
     "output_type": "stream",
     "text": [
      "Enter a year: 2000\n"
     ]
    },
    {
     "name": "stdout",
     "output_type": "stream",
     "text": [
      "Year is LeapYear\n"
     ]
    }
   ],
   "source": [
    "a=int(input(\"Enter a year:\"))\n",
    "if (a%4==0) and (a%100!=0) or (a%400==0) :\n",
    "    print(\"Year is LeapYear\")\n",
    "else:\n",
    "    print(\"Year is Not Leap Year\")\n",
    "    \n",
    "\n",
    "\n"
   ]
  },
  {
   "cell_type": "markdown",
   "metadata": {},
   "source": [
    "### 06) WAP in python to display the name of the day according to the number given by the user."
   ]
  },
  {
   "cell_type": "code",
   "execution_count": 15,
   "metadata": {},
   "outputs": [
    {
     "name": "stdout",
     "output_type": "stream",
     "text": [
      "Enter a number of day: 6\n"
     ]
    },
    {
     "name": "stdout",
     "output_type": "stream",
     "text": [
      "Saturday\n"
     ]
    }
   ],
   "source": [
    "day=int(input(\"Enter a number of day:\"))\n",
    "              \n",
    "if day==0:\n",
    "    print(\"Sunday\")\n",
    "              \n",
    "elif day==1:\n",
    "     print(\"Monday\")\n",
    "              \n",
    "elif day==2:\n",
    "     print(\"Tuesday\")\n",
    "\n",
    "elif day==3:\n",
    "     print(\"Wednesday\")\n",
    "\n",
    "elif day==4:\n",
    "     print(\"Thursday\")\n",
    "\n",
    "elif day==5:\n",
    "     print(\"Friday\")\n",
    "\n",
    "elif day==6:\n",
    "     print(\"Saturday\")\n",
    "\n",
    "else:\n",
    "    print(\"Invalid Number:\")\n",
    "              "
   ]
  },
  {
   "cell_type": "markdown",
   "metadata": {},
   "source": [
    "### 07) WAP to implement simple calculator which performs (add,sub,mul,div) of two no. based on user input."
   ]
  },
  {
   "cell_type": "code",
   "execution_count": 42,
   "metadata": {},
   "outputs": [
    {
     "name": "stdout",
     "output_type": "stream",
     "text": [
      "Enter number 1: 5\n",
      "Enter number 2: 0\n",
      "Enter 1:Add 2:subtraction 3:Multiplication 4:Division 4\n"
     ]
    },
    {
     "name": "stdout",
     "output_type": "stream",
     "text": [
      "0 can't be divided\n"
     ]
    }
   ],
   "source": [
    "a=int(input(\"Enter number 1:\"))\n",
    "b=int(input(\"Enter number 2:\"))\n",
    "choice=int(input(\"Enter 1:Add 2:subtraction 3:Multiplication 4:Division\"))\n",
    "if choice==1:\n",
    "    add=a+b\n",
    "    print(\"Answer of addition:\",add)\n",
    "elif choice==2:\n",
    "    sub=a-b\n",
    "    print(\"Answer of subtraction:\",sub)\n",
    "elif choice==3:\n",
    "    mul=a*b\n",
    "    print(\"Answer of multiplictaion:\",mul)\n",
    "elif choice==4:\n",
    "    \n",
    "    if b!=0:\n",
    "        #we can use // for get answer in integer instend of floating value\n",
    "        div=a//b\n",
    "        print(\"Answer of division:\",div)\n",
    "    else:\n",
    "        print(\"Division by zero is not allowed\")\n",
    "else:\n",
    "    print(\"Invalid choice\")\n",
    "    "
   ]
  },
  {
   "cell_type": "markdown",
   "metadata": {},
   "source": [
    "### 08) WAP to read marks of five subjects. Calculate percentage and print class accordingly. \n",
    "Fail below 35 </br>\n",
    "Pass Class between 35 to 45 </br>\n",
    "Second Class</br>\n",
    "between 45 to 60</br>\n",
    "First Class between 60 to 70</br> \n",
    "Distinction if more than 70"
   ]
  },
  {
   "cell_type": "code",
   "execution_count": 3,
   "metadata": {},
   "outputs": [
    {
     "name": "stdout",
     "output_type": "stream",
     "text": [
      "Enter a marks of subject 1: 80\n",
      "Enter a marks of subject 2: 75\n",
      "Enter a marks of subject 3: 60\n",
      "Enter a marks of subject 4: 80\n",
      "Enter a marks of subject 5: 100\n"
     ]
    },
    {
     "name": "stdout",
     "output_type": "stream",
     "text": [
      "Avg is: 79.0\n",
      "Distinction\n"
     ]
    }
   ],
   "source": [
    "a=int(input(\"Enter a marks of subject 1:\"))\n",
    "b=int(input(\"Enter a marks of subject 2:\"))\n",
    "c=int(input(\"Enter a marks of subject 3:\"))\n",
    "d=int(input(\"Enter a marks of subject 4:\"))\n",
    "e=int(input(\"Enter a marks of subject 5:\"))\n",
    "\n",
    "avg=((a+b+c+d+e)/500)*100\n",
    "\n",
    "print(\"Avg is:\",avg)\n",
    "\n",
    "if avg<35:\n",
    "    print(\"Fail\")\n",
    "    \n",
    "elif avg>35 and avg<45:\n",
    "    print(\"Pass Class\")\n",
    "\n",
    "elif avg>45 and avg<60:\n",
    "    print(\"Second Class\")\n",
    "\n",
    "elif avg>60 and avg<70:\n",
    "    print(\"First Class\")\n",
    "\n",
    "else:\n",
    "    print(\"Distinction\")"
   ]
  },
  {
   "cell_type": "markdown",
   "metadata": {},
   "source": [
    "### 09) Three sides of a triangle are entered through the keyboard, WAP to check whether the triangle is isosceles, equilateral, scalene or right-angled triangle."
   ]
  },
  {
   "cell_type": "code",
   "execution_count": null,
   "metadata": {},
   "outputs": [],
   "source": [
    "import math\n",
    "\n",
    "p = float(input(\"Enter first side of triangle : \"))\n",
    "q = float(input(\"Enter second side of triangle : \"))\n",
    "r = float(input(\"Enter third side of triangle : \"))\n",
    "\n",
    "if p == q or p == r :\n",
    "    print(\"This is an Isosceles Trianle\")\n",
    "    \n",
    "elif p == q and p == r : \n",
    "    print(\"This is an Equilateral Trinagle\")\n",
    "    \n",
    "elif pow(p, 2) == pow(q, 2) + pow(r, 2) or pow(q, 2) == pow(p, 2) + pow(r, 2) or pow(r, 2) == pow(q, 2) + pow(p, 2):\n",
    "    print(\"This is a right angle trinagle\")\n",
    "    \n",
    "else:\n",
    "    print(\"This is  Scalene Trinagle\")"
   ]
  },
  {
   "cell_type": "code",
   "execution_count": null,
   "metadata": {},
   "outputs": [],
   "source": []
  },
  {
   "cell_type": "markdown",
   "metadata": {},
   "source": [
    "### 10) WAP to find the second largest number among three user input numbers."
   ]
  },
  {
   "cell_type": "code",
   "execution_count": 12,
   "metadata": {},
   "outputs": [
    {
     "name": "stdout",
     "output_type": "stream",
     "text": [
      "Enter number 1: 10\n",
      "Enter number 2: 5\n",
      "Enter number 2: 4\n"
     ]
    },
    {
     "name": "stdout",
     "output_type": "stream",
     "text": [
      "4\n"
     ]
    }
   ],
   "source": [
    "num1 = float(input(\"Enter the first number :\"))\n",
    "num2 = float(input(\"Enter the first number :\"))\n",
    "num3 = float(input(\"Enter the first number :\"))\n",
    "\n",
    "if((num1 > num2 and num1 < num3) or (num1 < num2 and num1 > num3)):\n",
    "    print(f'The second largest number is : {num1}')\n",
    "elif((num2 > num1 and num2 < num3) or (num2 < num1 and num2 > num3)):\n",
    "    print(f'The second largest number is : {num2}')\n",
    "else:\n",
    "    print(f'The second largest number is : {num3}')\n",
    "    "
   ]
  },
  {
   "cell_type": "markdown",
   "metadata": {},
   "source": [
    "### 11) WAP to calculate electricity bill based on following criteria. Which takes the unit from the user.\n",
    "a. First 1 to 50 units – Rs. 2.60/unit</br>\n",
    "b. Next 50 to 100 units – Rs. 3.25/unit</br>\n",
    "c. Next 100 to 200 units – Rs. 5.26/unit</br>\n",
    "d. above 200 units – Rs. 8.45/unit"
   ]
  },
  {
   "cell_type": "code",
   "execution_count": 7,
   "metadata": {},
   "outputs": [
    {
     "name": "stdout",
     "output_type": "stream",
     "text": [
      "Enter a number of unit: 50\n"
     ]
    },
    {
     "name": "stdout",
     "output_type": "stream",
     "text": [
      "130.0\n"
     ]
    }
   ],
   "source": [
    "unit=int(input(\"Enter a number of unit:\"))\n",
    "\n",
    "if   unit>1 and unit<=50:\n",
    "    print(unit*2.60)\n",
    "\n",
    "elif unit>50 and unit<=100:\n",
    "    print(unit*3.25)\n",
    "\n",
    "elif unit>100 and unit<=200:\n",
    "    print(unit*5.26)\n",
    "\n",
    "elif unit>200:\n",
    "    print(unit*8.45)"
   ]
  },
  {
   "cell_type": "code",
   "execution_count": null,
   "metadata": {},
   "outputs": [],
   "source": []
  }
 ],
 "metadata": {
  "kernelspec": {
   "display_name": "Python 3 (ipykernel)",
   "language": "python",
   "name": "python3"
  },
  "language_info": {
   "codemirror_mode": {
    "name": "ipython",
    "version": 3
   },
   "file_extension": ".py",
   "mimetype": "text/x-python",
   "name": "python",
   "nbconvert_exporter": "python",
   "pygments_lexer": "ipython3",
   "version": "3.12.7"
  }
 },
 "nbformat": 4,
 "nbformat_minor": 4
}
